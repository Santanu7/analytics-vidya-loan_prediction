{
 "cells": [
  {
   "cell_type": "markdown",
   "metadata": {},
   "source": [
    "# Problem Statement\n",
    "\n",
    "Understanding the problem statement is the first and foremost step. This would help you give an intuition of what you will face ahead of time. Let us see the problem statement -\n",
    "\n",
    "##### Dream Housing Finance company deals in all home loans. They have presence across all urban, semi urban and rural areas. Customer first apply for home loan after that company validates the customer eligibility for loan. Company wants to automate the loan eligibility process (real time) based on customer detail provided while filling online application form. These details are Gender, Marital Status, Education, Number of Dependents, Income, Loan Amount, Credit History and others. To automate this process, they have given a problem to identify the customers segments, those are eligible for loan amount so that they can specifically target these customers.\n",
    "\n",
    "<img src=\"image0.png\" >\n",
    "\n",
    "It is a classification problem where we have to predict whether a loan would be approved or not. In a classification problem, we have to predict discrete values based on a given set of independent variable(s). Classification can be of two types:\n",
    "\n",
    "- **Binary Classification** : In this classification we have to predict either of the two given classes. For example: classifying the gender as male or female, predicting the result as win or loss, etc.\n",
    "\n",
    "- **Multiclass Classification** : Here we have to classify the data into three or more classes. For example: classifying a movie's genre as comedy, action or romantic, classify fruits as oranges, apples, or pears, etc.\n",
    "\n",
    "Loan prediction is a very common real-life problem that each retail bank faces atleast once in its lifetime. If done correctly, it can save a lot of man hours at the end of a retail bank."
   ]
  },
  {
   "cell_type": "markdown",
   "metadata": {},
   "source": [
    "# Hypothesis Generation\n",
    "\n",
    "After looking at the problem statement, we will now move into hypothesis generation. It is the process of listing out all the possible factors that can affect the outcome.\n",
    "\n",
    "#### What is hypothesis generation?\n",
    "T\n",
    "his is a very important stage in any data science/machine learning pipeline. It involves understanding the problem in detail by brainstorming as many factors as possible which can impact the outcome. It is done by understanding the problem statement thoroughly and before looking at the data.\n",
    "\n",
    "Below are some of the factors which I think can affect the Loan Approval (dependent variable for this loan prediction problem):\n",
    "\n",
    "- Salary: Applicants with high income should have more chances of loan approval.\n",
    "\n",
    "- Previous history: Applicants who have repayed their previous debts should have higher chances of loan approval.\n",
    "\n",
    "- Loan amount: Loan approval should also depend on the loan amount. If the loan amount is less, chances of loan approval should be high.\n",
    "\n",
    "- Loan term: Loan for less time period and less amount should have higher chances of approval.\n",
    "\n",
    "- EMI: Lesser the amount to be paid monthly to repay the loan, higher the chances of loan approval.\n",
    "\n",
    "These are some of the factors which i think can affect the target variable, you can come up with many more factors.\n",
    "\n",
    "You can download the dataset from: https://datahack.analyticsvidhya.com/contest/practice-problem-loan-prediction-iii/\n",
    "\n",
    "On the homepage of this course on datahack platform, you will see various sections:\n",
    "\n",
    "- Data : Download the dataset from here.\n",
    "- Solution Checker : You can submit your solution here and check the score.\n",
    "- My Submissions : This will show you the entire list of your submissions.\n",
    "- LeaderBoard : You can check your ranking here.\n",
    "- You can also share your approach to the problem and look at the approaches shared by other participants in the leaderboard.\n",
    "- We will try to validate each of these hypothesis based on the dataset. In the next section, we will have a look at the dataset."
   ]
  },
  {
   "cell_type": "markdown",
   "metadata": {},
   "source": [
    "## Loading Packages"
   ]
  },
  {
   "cell_type": "code",
   "execution_count": 1,
   "metadata": {},
   "outputs": [],
   "source": [
    "import pandas as pd \n",
    "import numpy as np                     # For mathematical calculations \n",
    "import seaborn as sns                  # For data visualization \n",
    "import matplotlib.pyplot as plt        # For plotting graphs \n",
    "%matplotlib inline \n",
    "import warnings                        # To ignore any warnings \n",
    "warnings.filterwarnings(\"ignore\")"
   ]
  },
  {
   "cell_type": "markdown",
   "metadata": {},
   "source": [
    "## Data\n",
    "For this practice problem, we have been given three CSV files: train, test and sample submission.\n",
    "\n",
    "- Train file will be used for training the model, i.e. our model will learn from this file. It contains all the independent variables and the target variable.\n",
    "\n",
    "- Test file contains all the independent variables, but not the target variable. We will apply the model to predict the target variable for the test data.\n",
    "\n",
    "- Sample submission file contains the format in which we have to submit our predictions.\n",
    "\n",
    "## Read Data"
   ]
  },
  {
   "cell_type": "code",
   "execution_count": 2,
   "metadata": {},
   "outputs": [],
   "source": [
    "train=pd.read_csv(\"train.txt\") \n",
    "test=pd.read_csv(\"test.txt\")"
   ]
  },
  {
   "cell_type": "markdown",
   "metadata": {},
   "source": [
    "Let’s make a copy of train and test data so that even if we have to make any changes in these datasets we would not lose the original datasets.\n"
   ]
  },
  {
   "cell_type": "code",
   "execution_count": 3,
   "metadata": {},
   "outputs": [],
   "source": [
    "train_original=train.copy() \n",
    "test_original=test.copy()"
   ]
  },
  {
   "cell_type": "markdown",
   "metadata": {},
   "source": [
    "## Understanding The Data\n",
    "\n",
    "We will look at the structure of the train and test datasets. Firstly, we will check the features present in our data and then we will look at their data types.\n",
    "\n"
   ]
  },
  {
   "cell_type": "code",
   "execution_count": 4,
   "metadata": {},
   "outputs": [
    {
     "data": {
      "text/plain": [
       "Index(['Loan_ID', 'Gender', 'Married', 'Dependents', 'Education',\n",
       "       'Self_Employed', 'ApplicantIncome', 'CoapplicantIncome', 'LoanAmount',\n",
       "       'Loan_Amount_Term', 'Credit_History', 'Property_Area', 'Loan_Status'],\n",
       "      dtype='object')"
      ]
     },
     "execution_count": 4,
     "metadata": {},
     "output_type": "execute_result"
    }
   ],
   "source": [
    "train.columns"
   ]
  },
  {
   "cell_type": "markdown",
   "metadata": {},
   "source": [
    "We have 12 independent variables and 1 target variable, i.e. Loan_Status in the train dataset. Let’s also have a look at the columns of test dataset.\n",
    "\n"
   ]
  },
  {
   "cell_type": "code",
   "execution_count": 5,
   "metadata": {},
   "outputs": [
    {
     "data": {
      "text/plain": [
       "Index(['Loan_ID', 'Gender', 'Married', 'Dependents', 'Education',\n",
       "       'Self_Employed', 'ApplicantIncome', 'CoapplicantIncome', 'LoanAmount',\n",
       "       'Loan_Amount_Term', 'Credit_History', 'Property_Area'],\n",
       "      dtype='object')"
      ]
     },
     "execution_count": 5,
     "metadata": {},
     "output_type": "execute_result"
    }
   ],
   "source": [
    "test.columns"
   ]
  },
  {
   "cell_type": "markdown",
   "metadata": {},
   "source": [
    "We have similar features in the test dataset as the train dataset except the Loan_Status. We will predict the Loan_Status using the model built using the train data."
   ]
  },
  {
   "cell_type": "code",
   "execution_count": 6,
   "metadata": {},
   "outputs": [
    {
     "data": {
      "text/plain": [
       "Loan_ID               object\n",
       "Gender                object\n",
       "Married               object\n",
       "Dependents            object\n",
       "Education             object\n",
       "Self_Employed         object\n",
       "ApplicantIncome        int64\n",
       "CoapplicantIncome    float64\n",
       "LoanAmount           float64\n",
       "Loan_Amount_Term     float64\n",
       "Credit_History       float64\n",
       "Property_Area         object\n",
       "Loan_Status           object\n",
       "dtype: object"
      ]
     },
     "execution_count": 6,
     "metadata": {},
     "output_type": "execute_result"
    }
   ],
   "source": [
    "# Print data types for each variable\n",
    "train.dtypes\n"
   ]
  },
  {
   "cell_type": "code",
   "execution_count": 7,
   "metadata": {},
   "outputs": [
    {
     "data": {
      "text/plain": [
       "((614, 13), (367, 12))"
      ]
     },
     "execution_count": 7,
     "metadata": {},
     "output_type": "execute_result"
    }
   ],
   "source": [
    "train.shape, test.shape"
   ]
  },
  {
   "cell_type": "markdown",
   "metadata": {},
   "source": [
    "# Univariate Analysis\n",
    "\n",
    "In this section, we will do univariate analysis. It is the simplest form of analyzing data where we examine each variable individually. For categorical features we can use frequency table or bar plots which will calculate the number of each category in a particular variable. For numerical features, probability density plots can be used to look at the distribution of the variable.\n",
    "\n"
   ]
  },
  {
   "cell_type": "markdown",
   "metadata": {},
   "source": [
    "## Target Variable\n",
    "We will first look at the target variable, i.e., Loan_Status. As it is a categorical variable, let us look at its frequency table, percentage distribution and bar plot.\n",
    "\n",
    "Frequency table of a variable will give us the count of each category in that variable.\n",
    "\n"
   ]
  },
  {
   "cell_type": "code",
   "execution_count": 8,
   "metadata": {},
   "outputs": [
    {
     "data": {
      "text/plain": [
       "Y    422\n",
       "N    192\n",
       "Name: Loan_Status, dtype: int64"
      ]
     },
     "execution_count": 8,
     "metadata": {},
     "output_type": "execute_result"
    }
   ],
   "source": [
    "train['Loan_Status'].value_counts()"
   ]
  },
  {
   "cell_type": "code",
   "execution_count": 9,
   "metadata": {},
   "outputs": [
    {
     "data": {
      "text/plain": [
       "Y    0.687296\n",
       "N    0.312704\n",
       "Name: Loan_Status, dtype: float64"
      ]
     },
     "execution_count": 9,
     "metadata": {},
     "output_type": "execute_result"
    }
   ],
   "source": [
    "# Normalize can be set to True to print proportions instead of number\n",
    "train['Loan_Status'].value_counts(normalize=True)"
   ]
  },
  {
   "cell_type": "code",
   "execution_count": 10,
   "metadata": {},
   "outputs": [
    {
     "data": {
      "text/plain": [
       "<matplotlib.axes._subplots.AxesSubplot at 0x7f0ecd2f06a0>"
      ]
     },
     "execution_count": 10,
     "metadata": {},
     "output_type": "execute_result"
    },
    {
     "data": {
      "image/png": "[encoded data removed]",
      "text/plain": [
       "<matplotlib.figure.Figure at 0x7f0ecd2de6a0>"
      ]
     },
     "metadata": {
      "needs_background": "light"
     },
     "output_type": "display_data"
    }
   ],
   "source": [
    "train['Loan_Status'].value_counts().plot.bar()"
   ]
  },
  {
   "cell_type": "markdown",
   "metadata": {},
   "source": [
    "Now lets visualize each variable separately. Different types of variables are Categorical, ordinal and numerical.\n",
    "\n",
    "- Categorical features: These features have categories (Gender, Married, Self_Employed, Credit_History, Loan_Status)\n",
    "- Ordinal features: Variables in categorical features having some order involved (Dependents, Education, Property_Area)\n",
    "- Numerical features: These features have numerical values (ApplicantIncome, CoapplicantIncome, LoanAmount, Loan_Amount_Term)\n",
    "\n",
    "Let’s visualize the categorical and ordinal features first."
   ]
  },
  {
   "cell_type": "markdown",
   "metadata": {},
   "source": [
    "## Independent Variable (Categorical)"
   ]
  },
  {
   "cell_type": "code",
   "execution_count": 11,
   "metadata": {},
   "outputs": [
    {
     "data": {
      "image/png": "[encoded data removed]",
      "text/plain": [
       "<matplotlib.figure.Figure at 0x7f0ec18edf98>"
      ]
     },
     "metadata": {
      "needs_background": "light"
     },
     "output_type": "display_data"
    }
   ],
   "source": [
    "plt.figure(1)\n",
    "plt.subplot(221) \n",
    "train['Gender'].value_counts(normalize=True).plot.bar(figsize=(20,10), title= 'Gender') \n",
    "\n",
    "plt.subplot(222)\n",
    "train['Married'].value_counts(normalize=True).plot.bar(title= 'Married') \n",
    "\n",
    "plt.subplot(223)\n",
    "train['Self_Employed'].value_counts(normalize=True).plot.bar(title= 'Self_Employed') \n",
    "\n",
    "plt.subplot(224)\n",
    "train['Credit_History'].value_counts(normalize=True).plot.bar(title= 'Credit_History') \n",
    "\n",
    "plt.show()"
   ]
  },
  {
   "cell_type": "markdown",
   "metadata": {},
   "source": [
    "It can be inferred from the above bar plots that:\n",
    "\n",
    "- 80% applicants in the dataset are male.\n",
    "- Around 65% of the applicants in the dataset are married.\n",
    "- Around 15% applicants in the dataset are self employed.\n",
    "- Around 85% applicants have repaid their debts.\n",
    "\n",
    "Now let’s visualize the ordinal variables.\n",
    "\n",
    "## Independent Variable (Ordinal)\n"
   ]
  },
  {
   "cell_type": "code",
   "execution_count": 12,
   "metadata": {},
   "outputs": [
    {
     "data": {
      "image/png": "[encoded data removed]",
      "text/plain": [
       "<matplotlib.figure.Figure at 0x7f0ec19618d0>"
      ]
     },
     "metadata": {
      "needs_background": "light"
     },
     "output_type": "display_data"
    }
   ],
   "source": [
    "plt.figure(1)\n",
    "\n",
    "plt.subplot(131)\n",
    "train['Dependents'].value_counts(normalize=True).plot.bar(figsize=(24,6), title= 'Dependents') \n",
    "\n",
    "plt.subplot(132)\n",
    "train['Education'].value_counts(normalize=True).plot.bar(title= 'Education') \n",
    "\n",
    "plt.subplot(133)\n",
    "train['Property_Area'].value_counts(normalize=True).plot.bar(title= 'Property_Area') \n",
    "\n",
    "plt.show()"
   ]
  },
  {
   "cell_type": "markdown",
   "metadata": {},
   "source": [
    "Following inferences can be made from the above bar plots:\n",
    "\n",
    "- Most of the applicants don’t have any dependents.\n",
    "- Around 80% of the applicants are Graduate.\n",
    "- Most of the applicants are from Semiurban area.\n",
    "\n",
    "## Independent Variable (Numerical)\n",
    "\n",
    "Till now we have seen the categorical and ordinal variables and now lets visualize the numerical variables. Lets look at the distribution of Applicant income first.\n",
    "\n"
   ]
  },
  {
   "cell_type": "code",
   "execution_count": 13,
   "metadata": {},
   "outputs": [
    {
     "data": {
      "image/png": "[encoded data removed]",
      "text/plain": [
       "<matplotlib.figure.Figure at 0x7f0ec15585c0>"
      ]
     },
     "metadata": {
      "needs_background": "light"
     },
     "output_type": "display_data"
    }
   ],
   "source": [
    "plt.figure(1)\n",
    "plt.subplot(121)\n",
    "sns.distplot(train['ApplicantIncome']); \n",
    "\n",
    "plt.subplot(122)\n",
    "train['ApplicantIncome'].plot.box(figsize=(16,5)) \n",
    "\n",
    "plt.show()"
   ]
  },
  {
   "cell_type": "markdown",
   "metadata": {},
   "source": [
    "It can be inferred that most of the data in the distribution of applicant income is towards left which means it is not normally distributed. We will try to make it normal in later sections as algorithms works better if the data is normally distributed.\n",
    "\n",
    "The boxplot confirms the presence of a lot of outliers/extreme values. This can be attributed to the income disparity in the society. Part of this can be driven by the fact that we are looking at people with different education levels. Let us segregate them by Education:"
   ]
  },
  {
   "cell_type": "code",
   "execution_count": 14,
   "metadata": {},
   "outputs": [
    {
     "data": {
      "text/plain": [
       "<matplotlib.text.Text at 0x7f0ec1622470>"
      ]
     },
     "execution_count": 14,
     "metadata": {},
     "output_type": "execute_result"
    },
    {
     "data": {
      "image/png": "[encoded data removed]",
      "text/plain": [
       "<matplotlib.figure.Figure at 0x7f0ecd2de940>"
      ]
     },
     "metadata": {
      "needs_background": "light"
     },
     "output_type": "display_data"
    }
   ],
   "source": [
    "train.boxplot(column='ApplicantIncome', by = 'Education')\n",
    "plt.suptitle(\"\")"
   ]
  },
  {
   "cell_type": "markdown",
   "metadata": {},
   "source": [
    "We can see that there are a higher number of graduates with very high incomes, which are appearing to be the outliers.\n",
    "\n",
    "Let’s look at the Coapplicant income distribution."
   ]
  },
  {
   "cell_type": "code",
   "execution_count": 15,
   "metadata": {},
   "outputs": [
    {
     "data": {
      "image/png": "[encoded data removed]",
      "text/plain": [
       "<matplotlib.figure.Figure at 0x7f0ec1512a58>"
      ]
     },
     "metadata": {
      "needs_background": "light"
     },
     "output_type": "display_data"
    }
   ],
   "source": [
    "plt.figure(1)\n",
    "plt.subplot(121)\n",
    "sns.distplot(train['CoapplicantIncome']); \n",
    "\n",
    "plt.subplot(122) \n",
    "train['CoapplicantIncome'].plot.box(figsize=(16,5)) \n",
    "\n",
    "plt.show()"
   ]
  },
  {
   "cell_type": "markdown",
   "metadata": {},
   "source": [
    "We see a similar distribution as that of the applicant income. Majority of coapplicant’s income ranges from 0 to 5000. We also see a lot of outliers in the coapplicant income and it is not normally distributed.\n",
    "\n",
    "Let’s look at the distribution of LoanAmount variable."
   ]
  },
  {
   "cell_type": "code",
   "execution_count": 16,
   "metadata": {},
   "outputs": [
    {
     "data": {
      "image/png": "[encoded data removed]",
      "text/plain": [
       "<matplotlib.figure.Figure at 0x7f0ec15bf7f0>"
      ]
     },
     "metadata": {
      "needs_background": "light"
     },
     "output_type": "display_data"
    }
   ],
   "source": [
    "plt.figure(1)\n",
    "plt.subplot(121)\n",
    "df=train.dropna() \n",
    "sns.distplot(df['LoanAmount']); \n",
    "\n",
    "plt.subplot(122)\n",
    "train['LoanAmount'].plot.box(figsize=(16,5)) \n",
    "\n",
    "plt.show()"
   ]
  },
  {
   "cell_type": "markdown",
   "metadata": {},
   "source": [
    "We see a lot of outliers in this variable and the distribution is fairly normal. We will treat the outliers in later sections.\n",
    "\n",
    "Now we would like to know how well each feature correlate with Loan Status. So, in the next section we will look at bivariate analysis."
   ]
  },
  {
   "cell_type": "markdown",
   "metadata": {},
   "source": [
    "# Bivariate Analysis"
   ]
  },
  {
   "cell_type": "markdown",
   "metadata": {},
   "source": [
    "Lets recall some of the hypotheses that we generated earlier:\n",
    "\n",
    "- Applicants with high income should have more chances of loan approval.\n",
    "- Applicants who have repaid their previous debts should have higher chances of loan approval.\n",
    "- Loan approval should also depend on the loan amount. If the loan amount is less, chances of loan approval should be high.\n",
    "- Lesser the amount to be paid monthly to repay the loan, higher the chances of loan approval.\n",
    "Lets try to test the above mentioned hypotheses using bivariate analysis\n",
    "\n",
    "After looking at every variable individually in univariate analysis, we will now explore them again with respect to the target variable.\n",
    "\n",
    "## Categorical Independent Variable vs Target Variable\n",
    "First of all we will find the relation between target variable and categorical independent variables. Let us look at the stacked bar plot now which will give us the proportion of approved and unapproved loans.\n"
   ]
  },
  {
   "cell_type": "code",
   "execution_count": 17,
   "metadata": {},
   "outputs": [
    {
     "data": {
      "text/plain": [
       "<matplotlib.axes._subplots.AxesSubplot at 0x7f0ec17453c8>"
      ]
     },
     "execution_count": 17,
     "metadata": {},
     "output_type": "execute_result"
    },
    {
     "data": {
      "image/png": "[encoded data removed]",
      "text/plain": [
       "<matplotlib.figure.Figure at 0x7f0ec13d4fd0>"
      ]
     },
     "metadata": {
      "needs_background": "light"
     },
     "output_type": "display_data"
    }
   ],
   "source": [
    "Gender=pd.crosstab(train['Gender'],train['Loan_Status'])\n",
    "Gender.div(Gender.sum(1).astype(float), axis=0).plot(kind=\"bar\", stacked=True, figsize=(4,4))"
   ]
  },
  {
   "cell_type": "markdown",
   "metadata": {},
   "source": [
    "It can be inferred that the proportion of male and female applicants is more or less same for both approved and unapproved loans.\n",
    "\n",
    "Now let us visualize the remaining categorical variables vs target variable."
   ]
  },
  {
   "cell_type": "code",
   "execution_count": 18,
   "metadata": {},
   "outputs": [
    {
     "data": {
      "image/png": "[encoded data removed]",
      "text/plain": [
       "<matplotlib.figure.Figure at 0x7f0ec11076d8>"
      ]
     },
     "metadata": {
      "needs_background": "light"
     },
     "output_type": "display_data"
    },
    {
     "data": {
      "image/png": "[encoded data removed]",
      "text/plain": [
       "<matplotlib.figure.Figure at 0x7f0ec15af748>"
      ]
     },
     "metadata": {
      "needs_background": "light"
     },
     "output_type": "display_data"
    },
    {
     "data": {
      "image/png": "[encoded data removed]",
      "text/plain": [
       "<matplotlib.figure.Figure at 0x7f0ec11ecb70>"
      ]
     },
     "metadata": {
      "needs_background": "light"
     },
     "output_type": "display_data"
    },
    {
     "data": {
      "image/png": "[encoded data removed]",
      "text/plain": [
       "<matplotlib.figure.Figure at 0x7f0ec11c50f0>"
      ]
     },
     "metadata": {
      "needs_background": "light"
     },
     "output_type": "display_data"
    }
   ],
   "source": [
    "Married=pd.crosstab(train['Married'],train['Loan_Status'])\n",
    "Dependents=pd.crosstab(train['Dependents'],train['Loan_Status']) \n",
    "Education=pd.crosstab(train['Education'],train['Loan_Status'])\n",
    "Self_Employed=pd.crosstab(train['Self_Employed'],train['Loan_Status']) \n",
    "\n",
    "Married.div(Married.sum(1).astype(float), axis=0).plot(kind=\"bar\", stacked=True, figsize=(4,4))\n",
    "plt.show() \n",
    "\n",
    "Dependents.div(Dependents.sum(1).astype(float), axis=0).plot(kind=\"bar\", stacked=True)\n",
    "plt.show() \n",
    "\n",
    "Education.div(Education.sum(1).astype(float), axis=0).plot(kind=\"bar\", stacked=True, figsize=(4,4))\n",
    "plt.show() \n",
    "\n",
    "Self_Employed.div(Self_Employed.sum(1).astype(float), axis=0).plot(kind=\"bar\", stacked=True, figsize=(4,4))\n",
    "plt.show()"
   ]
  },
  {
   "cell_type": "markdown",
   "metadata": {},
   "source": [
    "- Proportion of married applicants is higher for the approved loans.\n",
    "- Distribution of applicants with 1 or 3+ dependents is similar across both the categories of Loan_Status.\n",
    "- There is nothing significant we can infer from Self_Employed vs Loan_Status plot.\n",
    "Now we will look at the relationship between remaining categorical independent variables and Loan_Status."
   ]
  },
  {
   "cell_type": "code",
   "execution_count": 19,
   "metadata": {},
   "outputs": [
    {
     "data": {
      "image/png": "[encoded data removed]",
      "text/plain": [
       "<matplotlib.figure.Figure at 0x7f0ec1918ac8>"
      ]
     },
     "metadata": {
      "needs_background": "light"
     },
     "output_type": "display_data"
    },
    {
     "data": {
      "image/png": "[encoded data removed]",
      "text/plain": [
       "<matplotlib.figure.Figure at 0x7f0ec1453278>"
      ]
     },
     "metadata": {
      "needs_background": "light"
     },
     "output_type": "display_data"
    }
   ],
   "source": [
    "Credit_History=pd.crosstab(train['Credit_History'],train['Loan_Status'])\n",
    "Property_Area=pd.crosstab(train['Property_Area'],train['Loan_Status']) \n",
    "\n",
    "Credit_History.div(Credit_History.sum(1).astype(float), axis=0).plot(kind=\"bar\", stacked=True, figsize=(4,4)) \n",
    "plt.show() \n",
    "\n",
    "Property_Area.div(Property_Area.sum(1).astype(float), axis=0).plot(kind=\"bar\", stacked=True)\n",
    "plt.show()"
   ]
  },
  {
   "cell_type": "markdown",
   "metadata": {},
   "source": [
    "- It seems people with credit history as 1 are more likely to get their loans approved.\n",
    "- Proportion of loans getting approved in semiurban area is higher as compared to that in rural or urban areas.\n",
    "Now let’s visualize numerical independent variables with respect to target variable.\n",
    "\n",
    "## Numerical Independent Variable vs Target Variable\n",
    "We will try to find the mean income of people for which the loan has been approved vs the mean income of people for which the loan has not been approved."
   ]
  },
  {
   "cell_type": "code",
   "execution_count": 20,
   "metadata": {},
   "outputs": [
    {
     "data": {
      "text/plain": [
       "<matplotlib.axes._subplots.AxesSubplot at 0x7f0ec11032b0>"
      ]
     },
     "execution_count": 20,
     "metadata": {},
     "output_type": "execute_result"
    },
    {
     "data": {
      "image/png": "[encoded data removed]",
      "text/plain": [
       "<matplotlib.figure.Figure at 0x7f0ec1193d30>"
      ]
     },
     "metadata": {
      "needs_background": "light"
     },
     "output_type": "display_data"
    }
   ],
   "source": [
    "train.groupby('Loan_Status')['ApplicantIncome'].mean().plot.bar()"
   ]
  },
  {
   "cell_type": "markdown",
   "metadata": {},
   "source": [
    "Here the y-axis represents the mean applicant income. We don’t see any change in the mean income. So, let’s make bins for the applicant income variable based on the values in it and analyze the corresponding loan status for each bin."
   ]
  },
  {
   "cell_type": "code",
   "execution_count": 21,
   "metadata": {},
   "outputs": [
    {
     "data": {
      "image/png": "[encoded data removed]",
      "text/plain": [
       "<matplotlib.figure.Figure at 0x7f0ec13fb7b8>"
      ]
     },
     "metadata": {
      "needs_background": "light"
     },
     "output_type": "display_data"
    }
   ],
   "source": [
    "bins=[0,2500,4000,6000,81000]\n",
    "group=['Low','Average','High', 'Very high']\n",
    "\n",
    "train['Income_bin']=pd.cut(df['ApplicantIncome'],bins,labels=group)\n",
    "\n",
    "Income_bin=pd.crosstab(train['Income_bin'],train['Loan_Status']) \n",
    "Income_bin.div(Income_bin.sum(1).astype(float), axis=0).plot(kind=\"bar\", stacked=True)\n",
    "\n",
    "plt.xlabel('ApplicantIncome')\n",
    "P = plt.ylabel('Percentage')"
   ]
  },
  {
   "cell_type": "markdown",
   "metadata": {},
   "source": [
    "It can be inferred that Applicant income does not affect the chances of loan approval which contradicts our hypothesis in which we assumed that if the applicant income is high the chances of loan approval will also be high.\n",
    "\n",
    "We will analyze the coapplicant income and loan amount variable in similar manner."
   ]
  },
  {
   "cell_type": "code",
   "execution_count": 22,
   "metadata": {},
   "outputs": [
    {
     "data": {
      "image/png": "[encoded data removed]",
      "text/plain": [
       "<matplotlib.figure.Figure at 0x7f0ec1448978>"
      ]
     },
     "metadata": {
      "needs_background": "light"
     },
     "output_type": "display_data"
    }
   ],
   "source": [
    "bins=[0,1000,3000,42000]\n",
    "group=['Low','Average','High'] \n",
    "\n",
    "train['Coapplicant_Income_bin']=pd.cut(df['CoapplicantIncome'],bins,labels=group)\n",
    "\n",
    "Coapplicant_Income_bin=pd.crosstab(train['Coapplicant_Income_bin'],train['Loan_Status'])\n",
    "Coapplicant_Income_bin.div(Coapplicant_Income_bin.sum(1).astype(float), axis=0).plot(kind=\"bar\", stacked=True)\n",
    "plt.xlabel('CoapplicantIncome')\n",
    "P = plt.ylabel('Percentage')"
   ]
  },
  {
   "cell_type": "markdown",
   "metadata": {},
   "source": [
    "It shows that if coapplicant’s income is less the chances of loan approval are high. But this does not look right. The possible reason behind this may be that most of the applicants don’t have any coapplicant so the coapplicant income for such applicants is 0 and hence the loan approval is not dependent on it. So we can make a new variable in which we will combine the applicant’s and coapplicant’s income to visualize the combined effect of income on loan approval.\n",
    "\n",
    "Let us combine the Applicant Income and Coapplicant Income and see the combined effect of Total Income on the Loan_Status.\n",
    "\n"
   ]
  },
  {
   "cell_type": "code",
   "execution_count": 23,
   "metadata": {},
   "outputs": [
    {
     "data": {
      "image/png": "[encoded data removed]",
      "text/plain": [
       "<matplotlib.figure.Figure at 0x7f0ec11f90b8>"
      ]
     },
     "metadata": {
      "needs_background": "light"
     },
     "output_type": "display_data"
    }
   ],
   "source": [
    "train['Total_Income'] = train['ApplicantIncome']+train['CoapplicantIncome']\n",
    "\n",
    "bins = [0,2500,4000,6000,81000]\n",
    "group = ['Low','Average','High', 'Very high']\n",
    "\n",
    "train['Total_Income_bin']=pd.cut(train['Total_Income'],bins,labels=group)\n",
    "Total_Income_bin=pd.crosstab(train['Total_Income_bin'],train['Loan_Status']) \n",
    "Total_Income_bin.div(Total_Income_bin.sum(1).astype(float), axis=0).plot(kind=\"bar\", stacked=True)\n",
    "\n",
    "plt.xlabel('Total_Income') \n",
    "P = plt.ylabel('Percentage')"
   ]
  },
  {
   "cell_type": "markdown",
   "metadata": {},
   "source": [
    "We can see that Proportion of loans getting approved for applicants having low Total_Income is very less as compared to that of applicants with Average, High and Very High Income.\n",
    "\n",
    "Let’s visualize the Loan amount variable.\n",
    "\n"
   ]
  },
  {
   "cell_type": "code",
   "execution_count": 24,
   "metadata": {},
   "outputs": [
    {
     "data": {
      "image/png": "[encoded data removed]",
      "text/plain": [
       "<matplotlib.figure.Figure at 0x7f0ec1765e80>"
      ]
     },
     "metadata": {
      "needs_background": "light"
     },
     "output_type": "display_data"
    }
   ],
   "source": [
    "bins=[0,100,200,700]\n",
    "group=['Low','Average','High']\n",
    "\n",
    "train['LoanAmount_bin']=pd.cut(df['LoanAmount'],bins,labels=group)\n",
    "\n",
    "LoanAmount_bin=pd.crosstab(train['LoanAmount_bin'],train['Loan_Status'])\n",
    "LoanAmount_bin.div(LoanAmount_bin.sum(1).astype(float), axis=0).plot(kind=\"bar\", stacked=True)\n",
    "\n",
    "plt.xlabel('LoanAmount')\n",
    "P = plt.ylabel('Percentage')"
   ]
  },
  {
   "cell_type": "markdown",
   "metadata": {},
   "source": [
    "It can be seen that the proportion of approved loans is higher for Low and Average Loan Amount as compared to that of High Loan Amount which supports our hypothesis in which we considered that the chances of loan approval will be high when the loan amount is less.\n",
    "\n",
    "Let’s drop the bins which we created for the exploration part. We will change the 3+ in dependents variable to 3 to make it a numerical variable.We will also convert the target variable’s categories into 0 and 1 so that we can find its correlation with numerical variables. One more reason to do so is few models like logistic regression takes only numeric values as input. We will replace N with 0 and Y with 1.\n",
    "\n"
   ]
  },
  {
   "cell_type": "code",
   "execution_count": 25,
   "metadata": {},
   "outputs": [],
   "source": [
    "train=train.drop(['Income_bin', 'Coapplicant_Income_bin', 'LoanAmount_bin', 'Total_Income_bin', 'Total_Income'], axis=1)\n",
    "\n",
    "train['Dependents'].replace('3+', 3,inplace=True)\n",
    "test['Dependents'].replace('3+', 3,inplace=True)\n",
    "\n",
    "train['Loan_Status'].replace('N', 0,inplace=True)\n",
    "train['Loan_Status'].replace('Y', 1,inplace=True)"
   ]
  },
  {
   "cell_type": "markdown",
   "metadata": {},
   "source": [
    "Now lets look at the correlation between all the numerical variables. We will use the heat map to visualize the correlation. Heatmaps visualize data through variations in coloring. The variables with darker color means their correlation is more."
   ]
  },
  {
   "cell_type": "code",
   "execution_count": 26,
   "metadata": {},
   "outputs": [
    {
     "data": {
      "text/plain": [
       "<matplotlib.axes._subplots.AxesSubplot at 0x7f0ec173c4a8>"
      ]
     },
     "execution_count": 26,
     "metadata": {},
     "output_type": "execute_result"
    },
    {
     "data": {
      "image/png": "[encoded data removed]",
      "text/plain": [
       "<matplotlib.figure.Figure at 0x7f0ec1006128>"
      ]
     },
     "metadata": {
      "needs_background": "light"
     },
     "output_type": "display_data"
    }
   ],
   "source": [
    "matrix = train.corr()\n",
    "f, ax = plt.subplots(figsize=(9, 6))\n",
    "sns.heatmap(matrix, vmax=.8, square=True, cmap=\"BuPu\")"
   ]
  },
  {
   "cell_type": "markdown",
   "metadata": {},
   "source": [
    "We see that the most correlated variables are (ApplicantIncome - LoanAmount) and (Credit_History - Loan_Status). LoanAmount is also correlated with CoapplicantIncome."
   ]
  },
  {
   "cell_type": "markdown",
   "metadata": {},
   "source": [
    "# Missing Value and Outlier Treatment\n"
   ]
  },
  {
   "cell_type": "markdown",
   "metadata": {},
   "source": [
    "After exploring all the variables in our data, we can now impute the missing values and treat the outliers because missing data and outliers can have adverse effect on the model performance.\n",
    "\n",
    "## Missing value imputation\n",
    "Let’s list out feature-wise count of missing values."
   ]
  },
  {
   "cell_type": "code",
   "execution_count": 27,
   "metadata": {},
   "outputs": [
    {
     "data": {
      "text/plain": [
       "Loan_ID               0\n",
       "Gender               13\n",
       "Married               3\n",
       "Dependents           15\n",
       "Education             0\n",
       "Self_Employed        32\n",
       "ApplicantIncome       0\n",
       "CoapplicantIncome     0\n",
       "LoanAmount           22\n",
       "Loan_Amount_Term     14\n",
       "Credit_History       50\n",
       "Property_Area         0\n",
       "Loan_Status           0\n",
       "dtype: int64"
      ]
     },
     "execution_count": 27,
     "metadata": {},
     "output_type": "execute_result"
    }
   ],
   "source": [
    "train.isnull().sum()"
   ]
  },
  {
   "cell_type": "markdown",
   "metadata": {},
   "source": [
    "There are missing values in Gender, Married, Dependents, Self_Employed, LoanAmount, Loan_Amount_Term and Credit_History features.\n",
    "\n",
    "We will treat the missing values in all the features one by one.\n",
    "\n",
    "We can consider these methods to fill the missing values:\n",
    "\n",
    "- For numerical variables: imputation using mean or median\n",
    "- For categorical variables: imputation using mode                                               \n",
    "\n",
    "There are very less missing values in Gender, Married, Dependents, Credit_History and Self_Employed features so we can fill them using the mode of the features.\n",
    "\n"
   ]
  },
  {
   "cell_type": "code",
   "execution_count": 28,
   "metadata": {},
   "outputs": [],
   "source": [
    "train['Gender'].fillna(train['Gender'].mode()[0], inplace=True)\n",
    "train['Married'].fillna(train['Married'].mode()[0], inplace=True)\n",
    "train['Dependents'].fillna(train['Dependents'].mode()[0], inplace=True)\n",
    "train['Self_Employed'].fillna(train['Self_Employed'].mode()[0], inplace=True)\n",
    "train['Credit_History'].fillna(train['Credit_History'].mode()[0], inplace=True)"
   ]
  },
  {
   "cell_type": "markdown",
   "metadata": {},
   "source": [
    "Now let’s try to find a way to fill the missing values in Loan_Amount_Term. We will look at the value count of the Loan amount term variable.\n",
    "\n"
   ]
  },
  {
   "cell_type": "code",
   "execution_count": 29,
   "metadata": {},
   "outputs": [
    {
     "data": {
      "text/plain": [
       "360.0    512\n",
       "180.0     44\n",
       "480.0     15\n",
       "300.0     13\n",
       "84.0       4\n",
       "240.0      4\n",
       "120.0      3\n",
       "36.0       2\n",
       "60.0       2\n",
       "12.0       1\n",
       "Name: Loan_Amount_Term, dtype: int64"
      ]
     },
     "execution_count": 29,
     "metadata": {},
     "output_type": "execute_result"
    }
   ],
   "source": [
    "train['Loan_Amount_Term'].value_counts()\n"
   ]
  },
  {
   "cell_type": "markdown",
   "metadata": {},
   "source": [
    "It can be seen that in loan amount term variable, the value of 360 is repeating the most. So we will replace the missing values in this variable using the mode of this variable.\n",
    "\n"
   ]
  },
  {
   "cell_type": "code",
   "execution_count": 30,
   "metadata": {},
   "outputs": [],
   "source": [
    "train['Loan_Amount_Term'].fillna(train['Loan_Amount_Term'].mode()[0], inplace=True)"
   ]
  },
  {
   "cell_type": "markdown",
   "metadata": {},
   "source": [
    "Now we will see the LoanAmount variable. As it is a numerical variable, we can use mean or median to impute the missing values. We will use median to fill the null values as earlier we saw that loan amount have outliers so the mean will not be the proper approach as it is highly affected by the presence of outliers.\n",
    "\n"
   ]
  },
  {
   "cell_type": "code",
   "execution_count": 31,
   "metadata": {},
   "outputs": [],
   "source": [
    "train['LoanAmount'].fillna(train['LoanAmount'].median(), inplace=True)"
   ]
  },
  {
   "cell_type": "markdown",
   "metadata": {},
   "source": [
    "Now lets check whether all the missing values are filled in the dataset."
   ]
  },
  {
   "cell_type": "code",
   "execution_count": 32,
   "metadata": {},
   "outputs": [
    {
     "data": {
      "text/plain": [
       "Loan_ID              0\n",
       "Gender               0\n",
       "Married              0\n",
       "Dependents           0\n",
       "Education            0\n",
       "Self_Employed        0\n",
       "ApplicantIncome      0\n",
       "CoapplicantIncome    0\n",
       "LoanAmount           0\n",
       "Loan_Amount_Term     0\n",
       "Credit_History       0\n",
       "Property_Area        0\n",
       "Loan_Status          0\n",
       "dtype: int64"
      ]
     },
     "execution_count": 32,
     "metadata": {},
     "output_type": "execute_result"
    }
   ],
   "source": [
    "train.isnull().sum()\n"
   ]
  },
  {
   "cell_type": "markdown",
   "metadata": {},
   "source": [
    "As we can see that all the missing values have been filled in the train dataset. Let’s fill all the missing values in the test dataset too with the same approach.\n",
    "\n"
   ]
  },
  {
   "cell_type": "code",
   "execution_count": 33,
   "metadata": {},
   "outputs": [],
   "source": [
    "test['Gender'].fillna(train['Gender'].mode()[0], inplace=True)\n",
    "test['Dependents'].fillna(train['Dependents'].mode()[0], inplace=True)\n",
    "test['Self_Employed'].fillna(train['Self_Employed'].mode()[0], inplace=True)\n",
    "test['Credit_History'].fillna(train['Credit_History'].mode()[0], inplace=True)\n",
    "test['Loan_Amount_Term'].fillna(train['Loan_Amount_Term'].mode()[0], inplace=True)\n",
    "test['LoanAmount'].fillna(train['LoanAmount'].median(), inplace=True)"
   ]
  },
  {
   "cell_type": "markdown",
   "metadata": {},
   "source": [
    "## Outlier Treatment\n",
    "As we saw earlier in univariate analysis, LoanAmount contains outliers so we have to treat them as the presence of outliers affects the distribution of the data. \n",
    "\n",
    "Due to these outliers bulk of the data in the loan amount is at the left and the right tail is longer. This is called right skewness. One way to remove the skewness is by doing the log transformation. As we take the log transformation, it does not affect the smaller values much, but reduces the larger values. So, we get a distribution similar to normal distribution.\n",
    "\n",
    "Let’s visualize the effect of log transformation. We will do the similar changes to the test file simultaneously."
   ]
  },
  {
   "cell_type": "code",
   "execution_count": 34,
   "metadata": {},
   "outputs": [
    {
     "data": {
      "image/png": "[encoded data removed]",
      "text/plain": [
       "<matplotlib.figure.Figure at 0x7f0ec1613198>"
      ]
     },
     "metadata": {
      "needs_background": "light"
     },
     "output_type": "display_data"
    }
   ],
   "source": [
    "train['LoanAmount_log'] = np.log(train['LoanAmount']) \n",
    "train['LoanAmount_log'].hist(bins=20)\n",
    "test['LoanAmount_log'] = np.log(test['LoanAmount'])"
   ]
  },
  {
   "cell_type": "markdown",
   "metadata": {},
   "source": [
    "Now the distribution looks much closer to normal and effect of extreme values has been significantly subsided. Let’s build a logistic regression model and make predictions for the test dataset."
   ]
  },
  {
   "cell_type": "markdown",
   "metadata": {},
   "source": [
    "# Evaluation Metrics for Classification Problems\n",
    "\n",
    "The process of model building is not complete without evaluation of model’s performance. Suppose we have the predictions from the model, how can we decide whether the predictions are accurate? We can plot the results and compare them with the actual values, i.e. calculate the distance between the predictions and actual values. Lesser this distance more accurate will be the predictions. Since this is a classification problem, we can evaluate our models using any one of the following evaluation metrics:\n",
    "\n",
    "- Accuracy: Let us understand it using the confusion matrix which is a tabular representation of Actual vs Predicted values. This is how a confusion matrix looks like:\n",
    "\n",
    "<img src=\"image1.png\">\n",
    "\n",
    "- True Positive - Targets which are actually true(Y) and we have predicted them true(Y)\n",
    "- True Negative - Targets which are actually false(N) and we have predicted them false(N)\n",
    "- False Positive - Targets which are actually false(N) but we have predicted them true(T)\n",
    "- False Negative - Targets which are actually true(T) but we have predicted them false(N)\n",
    "Using these values, we can calculate the accuracy of the model. The accuracy is given by:\n",
    "\n",
    "<img src=\"image2.png\">\n",
    "\n",
    "- Precision: It is a measure of correctness achieved in true prediction i.e. of observations labeled as true, how many are actually labeled true.\n",
    "\n",
    "Precision = TP / (TP + FP)\n",
    "\n",
    "- Recall(Sensitivity) - It is a measure of actual observations which are predicted correctly i.e. how many observations of true class are labeled correctly. It is also known as ‘Sensitivity’.\n",
    "\n",
    "Recall = TP / (TP + FN)\n",
    "\n",
    "- Specificity - It is a measure of how many observations of false class are labeled correctly.\n",
    "\n",
    "Specificity = TN / (TN + FP)\n",
    "\n",
    "#### Specificity and Sensitivity plays a crucial role in deriving ROC curve.\n",
    "\n",
    "#### ROC curve\n",
    "\n",
    "- Receiver Operating Characteristic(ROC) summarizes the model’s performance by evaluating the trade offs between true positive rate (sensitivity) and false positive rate(1- specificity).\n",
    "\n",
    "- The area under curve (AUC), referred to as index of accuracy(A) or concordance index, is a perfect performance metric for ROC curve. Higher the area under curve, better the prediction power of the model.\n",
    "\n",
    "- This is how a ROC curve looks like:\n",
    "\n",
    "<img src = \"image3.png\">\n",
    "\n",
    "- The area of this curve measures the ability of the model to correctly classify true positives and true negatives. We want our model to predict the true classes as true and false classes as false.\n",
    "\n",
    "- So it can be said that we want the true positive rate to be 1. But we are not concerned with the true positive rate only but the false positive rate too. For example in our problem, we are not only concerned about predicting the Y classes as Y but we also want N classes to be predicted as N.\n",
    "\n",
    "- We want to increase the area of the curve which will be maximum for class 2,3,4 and 5 in the above example.\n",
    "\n",
    "- For class 1 when the false positive rate is 0.2, the true positive rate is around 0.6. But for class 2 the true positive rate is 1 at the same false positive rate. So, the AUC for class 2 will be much more as compared to the AUC for class 1. So, the model for class 2 will be better.\n",
    "\n",
    "- The class 2,3,4 and 5 model will predict more accurately as compared to the class 0 and 1 model as the AUC is more for those classes.\n"
   ]
  },
  {
   "cell_type": "markdown",
   "metadata": {},
   "source": [
    "# Model Building : Part I\n",
    "\n",
    "Let us make our first model to predict the target variable. We will start with Logistic Regression which is used for predicting binary outcome.\n",
    "\n",
    "- Logistic Regression is a classification algorithm. It is used to predict a binary outcome (1 / 0, Yes / No, True / False) given a set of independent variables.\n",
    "\n",
    "- Logistic regression is an estimation of Logit function. Logit function is simply a log of odds in favor of the event.\n",
    "\n",
    "- This function creates a s-shaped curve with the probability estimate, which is very similar to the required step wise function\n",
    "\n",
    "To learn further on logistic regression, refer this article: https://www.analyticsvidhya.com/blog/2015/10/basics-logistic-regression/\n",
    "\n",
    "Lets drop the Loan_ID variable as it do not have any effect on the loan status. We will do the same changes to the test dataset which we did for the training dataset."
   ]
  },
  {
   "cell_type": "code",
   "execution_count": 35,
   "metadata": {},
   "outputs": [],
   "source": [
    "train=train.drop('Loan_ID',axis=1) \n",
    "test=test.drop('Loan_ID',axis=1)"
   ]
  },
  {
   "cell_type": "markdown",
   "metadata": {},
   "source": [
    "We will use scikit-learn (sklearn) for making different models which is an open source library for Python. It is one of the most efficient tool which contains many inbuilt functions that can be used for modeling in Python.\n",
    "\n",
    "To learn further about sklearn, refer here: http://scikit-learn.org/stable/tutorial/index.html\n",
    "\n",
    "Sklearn requires the target variable in a separate dataset. So, we will drop our target variable from the train dataset and save it in another dataset.\n",
    "\n"
   ]
  },
  {
   "cell_type": "code",
   "execution_count": 36,
   "metadata": {},
   "outputs": [],
   "source": [
    "X = train.drop('Loan_Status',1) \n",
    "y = train.Loan_Status"
   ]
  },
  {
   "cell_type": "markdown",
   "metadata": {},
   "source": [
    "Now we will make dummy variables for the categorical variables. Dummy variable turns categorical variables into a series of 0 and 1, making them lot easier to quantify and compare. Let us understand the process of dummies first:\n",
    "\n",
    "- Consider the “Gender” variable. It has two classes, Male and Female.\n",
    "\n",
    "- As logistic regression takes only the numerical values as input, we have to change male and female into numerical value.\n",
    "\n",
    "- Once we apply dummies to this variable, it will convert the “Gender” variable into two variables(Gender_Male and Gender_Female), one for each class, i.e. Male and Female.\n",
    "\n",
    "- Gender_Male will have a value of 0 if the gender is Female and a value of 1 if the gender is Male."
   ]
  },
  {
   "cell_type": "code",
   "execution_count": 37,
   "metadata": {},
   "outputs": [],
   "source": [
    "X=pd.get_dummies(X) \n",
    "train=pd.get_dummies(train) \n",
    "test=pd.get_dummies(test)\n"
   ]
  },
  {
   "cell_type": "markdown",
   "metadata": {},
   "source": [
    "Now we will train the model on training dataset and make predictions for the test dataset. But can we validate these predictions? One way of doing this is we can divide our train dataset into two parts: train and validation. We can train the model on this train part and using that make predictions for the validation part. In this way we can validate our predictions as we have the true predictions for the validation part (which we do not have for the test dataset).\n",
    "\n",
    "We will use the train_test_split function from sklearn to divide our train dataset. So, first let us import train_test_split.\n",
    "\n"
   ]
  },
  {
   "cell_type": "code",
   "execution_count": 38,
   "metadata": {},
   "outputs": [],
   "source": [
    "from sklearn.model_selection import train_test_split\n",
    "x_train, x_cv, y_train, y_cv = train_test_split(X,y, test_size =0.3)"
   ]
  },
  {
   "cell_type": "markdown",
   "metadata": {},
   "source": [
    "The dataset has been divided into training and validation part. Let us import LogisticRegression and accuracy_score from sklearn and fit the logistic regression model.\n",
    "\n"
   ]
  },
  {
   "cell_type": "code",
   "execution_count": 39,
   "metadata": {},
   "outputs": [
    {
     "data": {
      "text/plain": [
       "LogisticRegression(C=1.0, class_weight=None, dual=False, fit_intercept=True,\n",
       "          intercept_scaling=1, max_iter=100, multi_class='warn',\n",
       "          n_jobs=None, penalty='l2', random_state=None, solver='warn',\n",
       "          tol=0.0001, verbose=0, warm_start=False)"
      ]
     },
     "execution_count": 39,
     "metadata": {},
     "output_type": "execute_result"
    }
   ],
   "source": [
    "from sklearn.linear_model import LogisticRegression \n",
    "from sklearn.metrics import accuracy_score\n",
    "\n",
    "model = LogisticRegression() \n",
    "model.fit(x_train, y_train)"
   ]
  },
  {
   "cell_type": "markdown",
   "metadata": {},
   "source": [
    "Here the C parameter represents inverse of regularization strength. Regularization is applying a penalty to increasing the magnitude of parameter values in order to reduce overfitting. Smaller values of C specify stronger regularization. To learn about other parameters, refer here: http://scikit-learn.org/stable/modules/generated/sklearn.linear_model.LogisticRegression.html\n",
    "\n",
    "Let’s predict the Loan_Status for validation set and calculate its accuracy.\n",
    "\n"
   ]
  },
  {
   "cell_type": "code",
   "execution_count": 40,
   "metadata": {},
   "outputs": [],
   "source": [
    "pred_cv = model.predict(x_cv)"
   ]
  },
  {
   "cell_type": "markdown",
   "metadata": {},
   "source": [
    "Let us calculate how accurate our predictions are by calculating the accuracy."
   ]
  },
  {
   "cell_type": "code",
   "execution_count": 41,
   "metadata": {},
   "outputs": [
    {
     "data": {
      "text/plain": [
       "0.78918918918918923"
      ]
     },
     "execution_count": 41,
     "metadata": {},
     "output_type": "execute_result"
    }
   ],
   "source": [
    "accuracy_score(y_cv,pred_cv)\n"
   ]
  },
  {
   "cell_type": "markdown",
   "metadata": {},
   "source": [
    "So our predictions are almost 80% accurate, i.e. we have identified 80% of the loan status correctly.\n",
    "\n",
    "Let’s make predictions for the test dataset."
   ]
  },
  {
   "cell_type": "code",
   "execution_count": 42,
   "metadata": {},
   "outputs": [],
   "source": [
    "pred_test = model.predict(test)"
   ]
  },
  {
   "cell_type": "markdown",
   "metadata": {},
   "source": [
    "Lets import the submission file which we have to submit on the solution checker.\n",
    "\n"
   ]
  },
  {
   "cell_type": "code",
   "execution_count": 43,
   "metadata": {},
   "outputs": [],
   "source": [
    "submission=pd.read_csv(\"sample_submission.csv\")"
   ]
  },
  {
   "cell_type": "markdown",
   "metadata": {},
   "source": [
    "We only need the Loan_ID and the corresponding Loan_Status for the final submission. we will fill these columns with the Loan_ID of test dataset and the predictions that we made, i.e., pred_test respectively."
   ]
  },
  {
   "cell_type": "code",
   "execution_count": 44,
   "metadata": {},
   "outputs": [],
   "source": [
    "submission['Loan_Status']=pred_test \n",
    "submission['Loan_ID']=test_original['Loan_ID']"
   ]
  },
  {
   "cell_type": "markdown",
   "metadata": {},
   "source": [
    "Remember we need predictions in Y and N. So let’s convert 1 and 0 to Y and N."
   ]
  },
  {
   "cell_type": "code",
   "execution_count": 45,
   "metadata": {},
   "outputs": [],
   "source": [
    "submission['Loan_Status'].replace(0, 'N',inplace=True) \n",
    "submission['Loan_Status'].replace(1, 'Y',inplace=True)"
   ]
  },
  {
   "cell_type": "markdown",
   "metadata": {},
   "source": [
    "Finally we will convert the submission to .csv format and make submission to check the accuracy on the leaderboard."
   ]
  },
  {
   "cell_type": "code",
   "execution_count": 46,
   "metadata": {},
   "outputs": [],
   "source": [
    "pd.DataFrame(submission, columns=['Loan_ID','Loan_Status']).to_csv('logistic.csv')"
   ]
  },
  {
   "cell_type": "markdown",
   "metadata": {},
   "source": [
    "From this submission we got an accuracy of 0.7847 on the leaderboard.\n",
    "\n",
    "Instead of creating validation set, we can also make use of cross validation to validate our predictions. We will learn about this technique in next section."
   ]
  },
  {
   "cell_type": "markdown",
   "metadata": {},
   "source": [
    "To check how robust our model is to unseen data, we can use Validation. It is a technique which involves reserving a particular sample of a dataset on which you do not train the model. Later, you test your model on this sample before finalizing it. Some of the common methods for validation are listed below:\n",
    "\n",
    "- The validation set approach\n",
    "- k-fold cross validation\n",
    "- Leave one out cross validation (LOOCV)\n",
    "- Stratified k-fold cross validation\n",
    "If you wish to know more about validation techniques, then please refer this article: https://www.analyticsvidhya.com/blog/2018/05/improve-model-performance-cross-validation-in-python-r/\n",
    "\n",
    "In this section we will learn about stratified k-fold cross validation. Let us understand how it works:\n",
    "\n",
    "- Stratification is the process of rearranging the data so as to ensure that each fold is a good representative of the whole.\n",
    "- For example, in a binary classification problem where each class comprises of 50% of the data, it is best to arrange the data such that in every fold, each class comprises of about half the instances.\n",
    "- It is generally a better approach when dealing with both bias and variance.\n",
    "- A randomly selected fold might not adequately represent the minor class, particularly in cases where there is a huge class imbalance.\n",
    "Below is the visualization of a stratified k-fold validation when k=5.\n",
    "\n",
    "<img src=\"image4.png\">\n",
    "\n",
    "Let’s import StratifiedKFold from sklearn and fit the model."
   ]
  },
  {
   "cell_type": "code",
   "execution_count": 47,
   "metadata": {},
   "outputs": [],
   "source": [
    "from sklearn.model_selection import StratifiedKFold"
   ]
  },
  {
   "cell_type": "code",
   "execution_count": 48,
   "metadata": {},
   "outputs": [
    {
     "name": "stdout",
     "output_type": "stream",
     "text": [
      "\n",
      "1 of kfold 5\n",
      "accuracy_score 0.798387096774\n",
      "\n",
      "2 of kfold 5\n",
      "accuracy_score 0.83064516129\n",
      "\n",
      "3 of kfold 5\n",
      "accuracy_score 0.811475409836\n",
      "\n",
      "4 of kfold 5\n",
      "accuracy_score 0.795081967213\n",
      "\n",
      "5 of kfold 5\n",
      "accuracy_score 0.827868852459\n"
     ]
    }
   ],
   "source": [
    "i=1 \n",
    "kf = StratifiedKFold(n_splits=5,random_state=1,shuffle=True)\n",
    "\n",
    "for train_index,test_index in kf.split(X,y):\n",
    "    \n",
    "    print('\\n{} of kfold {}'.format(i,kf.n_splits))\n",
    "    \n",
    "    xtr,xvl = X.loc[train_index],X.loc[test_index]\n",
    "    ytr,yvl = y[train_index],y[test_index]\n",
    "    \n",
    "    model = LogisticRegression(random_state=1)\n",
    "    model.fit(xtr, ytr)\n",
    "    \n",
    "    pred_test = model.predict(xvl)\n",
    "    score = accuracy_score(yvl,pred_test)\n",
    "    print('accuracy_score',score)\n",
    "    \n",
    "    i+=1\n",
    "    pred_test = model.predict(test)\n",
    "    pred=model.predict_proba(xvl)[:,1]"
   ]
  },
  {
   "cell_type": "markdown",
   "metadata": {},
   "source": [
    "The mean validation accuracy for this model turns out to be 0.81. Let us visualize the roc curve."
   ]
  },
  {
   "cell_type": "code",
   "execution_count": 49,
   "metadata": {},
   "outputs": [
    {
     "data": {
      "image/png": "[encoded data removed]",
      "text/plain": [
       "<matplotlib.figure.Figure at 0x7f0ec10d5748>"
      ]
     },
     "metadata": {
      "needs_background": "light"
     },
     "output_type": "display_data"
    }
   ],
   "source": [
    "from sklearn import metrics\n",
    "\n",
    "fpr, tpr, _ = metrics.roc_curve(yvl,  pred)\n",
    "auc = metrics.roc_auc_score(yvl, pred)\n",
    "\n",
    "plt.figure(figsize=(12,8))\n",
    "plt.plot(fpr,tpr,label=\"validation, auc=\"+str(auc))\n",
    "plt.xlabel('False Positive Rate')\n",
    "plt.ylabel('True Positive Rate')\n",
    "plt.legend(loc=4)\n",
    "plt.show()"
   ]
  },
  {
   "cell_type": "markdown",
   "metadata": {},
   "source": [
    "We got an auc value of 0.77.\n",
    "\n"
   ]
  },
  {
   "cell_type": "code",
   "execution_count": 51,
   "metadata": {},
   "outputs": [],
   "source": [
    "submission['Loan_Status']=pred_test\n",
    "submission['Loan_ID']=test_original['Loan_ID']"
   ]
  },
  {
   "cell_type": "markdown",
   "metadata": {},
   "source": [
    "Remember we need predictions in Y and N. So let’s convert 1 and 0 to Y and N.\n"
   ]
  },
  {
   "cell_type": "code",
   "execution_count": 52,
   "metadata": {},
   "outputs": [],
   "source": [
    "submission['Loan_Status'].replace(0, 'N',inplace=True)\n",
    "submission['Loan_Status'].replace(1, 'Y',inplace=True)"
   ]
  },
  {
   "cell_type": "markdown",
   "metadata": {},
   "source": [
    "Lets convert the submission to .csv format and make submission to check the accuracy on the leaderboard.\n"
   ]
  },
  {
   "cell_type": "code",
   "execution_count": 53,
   "metadata": {},
   "outputs": [],
   "source": [
    "pd.DataFrame(submission, columns=['Loan_ID','Loan_Status']).to_csv('Logistic.csv')"
   ]
  },
  {
   "cell_type": "markdown",
   "metadata": {},
   "source": [
    "From this submission we got an accuracy of 0.78472 on the leaderboard. Now we will try to improve this accuracy using different approaches."
   ]
  },
  {
   "cell_type": "markdown",
   "metadata": {},
   "source": [
    "# Feature Engineering\n",
    "\n",
    "Based on the domain knowledge, we can come up with new features that might affect the target variable. We will create the following three new features:\n",
    "\n",
    "- **Total Income** - As discussed during bivariate analysis we will combine the Applicant Income and Coapplicant Income. If the total income is high, chances of loan approval might also be high.\n",
    "\n",
    "- **EMI** - EMI is the monthly amount to be paid by the applicant to repay the loan. Idea behind making this variable is that people who have high EMI’s might find it difficult to pay back the loan. We can calculate the EMI by taking the ratio of loan amount with respect to loan amount term.\n",
    "\n",
    "- **Balance Income** - This is the income left after the EMI has been paid. Idea behind creating this variable is that if this value is high, the chances are high that a person will repay the loan and hence increasing the chances of loan approval."
   ]
  },
  {
   "cell_type": "code",
   "execution_count": 54,
   "metadata": {},
   "outputs": [],
   "source": [
    "train['Total_Income']=train['ApplicantIncome']+train['CoapplicantIncome']\n",
    "test['Total_Income']=test['ApplicantIncome']+test['CoapplicantIncome']"
   ]
  },
  {
   "cell_type": "markdown",
   "metadata": {},
   "source": [
    "Let’s check the distribution of Total Income."
   ]
  },
  {
   "cell_type": "code",
   "execution_count": 55,
   "metadata": {},
   "outputs": [
    {
     "data": {
      "text/plain": [
       "<matplotlib.axes._subplots.AxesSubplot at 0x7f0ec1222d30>"
      ]
     },
     "execution_count": 55,
     "metadata": {},
     "output_type": "execute_result"
    },
    {
     "data": {
      "image/png": "[encoded data removed]",
      "text/plain": [
       "<matplotlib.figure.Figure at 0x7f0ec10d56a0>"
      ]
     },
     "metadata": {
      "needs_background": "light"
     },
     "output_type": "display_data"
    }
   ],
   "source": [
    "sns.distplot(train['Total_Income'])"
   ]
  },
  {
   "cell_type": "markdown",
   "metadata": {},
   "source": [
    "We can see it is shifted towards left, i.e., the distribution is right skewed. So, let’s take the log transformation to make the distribution normal.\n",
    "\n"
   ]
  },
  {
   "cell_type": "code",
   "execution_count": 56,
   "metadata": {},
   "outputs": [
    {
     "data": {
      "image/png": "[encoded data removed]",
      "text/plain": [
       "<matplotlib.figure.Figure at 0x7f0ec0596eb8>"
      ]
     },
     "metadata": {
      "needs_background": "light"
     },
     "output_type": "display_data"
    }
   ],
   "source": [
    "train['Total_Income_log'] = np.log(train['Total_Income'])\n",
    "sns.distplot(train['Total_Income_log']); \n",
    "test['Total_Income_log'] = np.log(test['Total_Income'])"
   ]
  },
  {
   "cell_type": "markdown",
   "metadata": {},
   "source": [
    "Now the distribution looks much closer to normal and effect of extreme values has been significantly subsided. Let’s create the EMI feature now.\n",
    "\n"
   ]
  },
  {
   "cell_type": "code",
   "execution_count": 57,
   "metadata": {},
   "outputs": [],
   "source": [
    "train['EMI']=train['LoanAmount']/train['Loan_Amount_Term']\n",
    "test['EMI']=test['LoanAmount']/test['Loan_Amount_Term']"
   ]
  },
  {
   "cell_type": "markdown",
   "metadata": {},
   "source": [
    "Let’s check the distribution of EMI variable."
   ]
  },
  {
   "cell_type": "code",
   "execution_count": 58,
   "metadata": {},
   "outputs": [
    {
     "data": {
      "text/plain": [
       "<matplotlib.axes._subplots.AxesSubplot at 0x7f0ec0474a90>"
      ]
     },
     "execution_count": 58,
     "metadata": {},
     "output_type": "execute_result"
    },
    {
     "data": {
      "image/png": "[encoded data removed]",
      "text/plain": [
       "<matplotlib.figure.Figure at 0x7f0ec04b5710>"
      ]
     },
     "metadata": {
      "needs_background": "light"
     },
     "output_type": "display_data"
    }
   ],
   "source": [
    "sns.distplot(train['EMI'])"
   ]
  },
  {
   "cell_type": "markdown",
   "metadata": {},
   "source": [
    "Let us create Balance Income feature now and check its distribution.\n",
    "\n"
   ]
  },
  {
   "cell_type": "code",
   "execution_count": 59,
   "metadata": {},
   "outputs": [],
   "source": [
    "train['Balance Income']=train['Total_Income']-(train['EMI']*1000) # Multiply with 1000 to make the units equal \n",
    "test['Balance Income']=test['Total_Income']-(test['EMI']*1000)\n"
   ]
  },
  {
   "cell_type": "code",
   "execution_count": 60,
   "metadata": {},
   "outputs": [
    {
     "data": {
      "image/png": "[encoded data removed]",
      "text/plain": [
       "<matplotlib.figure.Figure at 0x7f0ec17dde48>"
      ]
     },
     "metadata": {
      "needs_background": "light"
     },
     "output_type": "display_data"
    }
   ],
   "source": [
    "sns.distplot(train['Balance Income']);"
   ]
  },
  {
   "cell_type": "markdown",
   "metadata": {},
   "source": [
    "Let us now drop the variables which we used to create these new features. Reason for doing this is, the correlation between those old features and these new features will be very high and logistic regression assumes that the variables are not highly correlated. We also wants to remove the noise from the dataset, so removing correlated features will help in reducing the noise too."
   ]
  },
  {
   "cell_type": "code",
   "execution_count": 61,
   "metadata": {},
   "outputs": [],
   "source": [
    "train=train.drop(['ApplicantIncome', 'CoapplicantIncome', 'LoanAmount', 'Loan_Amount_Term'], axis=1) \n",
    "test=test.drop(['ApplicantIncome', 'CoapplicantIncome', 'LoanAmount', 'Loan_Amount_Term'], axis=1)"
   ]
  },
  {
   "cell_type": "markdown",
   "metadata": {},
   "source": [
    "After creating new features, we can continue the model building process. So we will start with logistic regression model and then move over to more complex models like RandomForest and XGBoost.\n",
    "\n",
    "We will build the following models in this section.\n",
    "\n",
    "- Logistic Regression\n",
    "- Decision Tree\n",
    "- Random Forest\n",
    "- XGBoost                      \n",
    "\n",
    "Let’s prepare the data for feeding into the models."
   ]
  },
  {
   "cell_type": "code",
   "execution_count": 62,
   "metadata": {},
   "outputs": [],
   "source": [
    "X = train.drop('Loan_Status',1) \n",
    "y = train.Loan_Status                # Save target variable in separate dataset"
   ]
  },
  {
   "cell_type": "markdown",
   "metadata": {},
   "source": [
    "## Logistic Regression"
   ]
  },
  {
   "cell_type": "code",
   "execution_count": 63,
   "metadata": {},
   "outputs": [
    {
     "name": "stdout",
     "output_type": "stream",
     "text": [
      "\n",
      "1 of kfold 5\n",
      "accuracy_score 0.806451612903\n",
      "\n",
      "2 of kfold 5\n",
      "accuracy_score 0.83064516129\n",
      "\n",
      "3 of kfold 5\n",
      "accuracy_score 0.77868852459\n",
      "\n",
      "4 of kfold 5\n",
      "accuracy_score 0.786885245902\n",
      "\n",
      "5 of kfold 5\n",
      "accuracy_score 0.819672131148\n"
     ]
    }
   ],
   "source": [
    "i=1 \n",
    "kf = StratifiedKFold(n_splits=5,random_state=1,shuffle=True)\n",
    "\n",
    "for train_index,test_index in kf.split(X,y):\n",
    "    \n",
    "    print('\\n{} of kfold {}'.format(i,kf.n_splits))\n",
    "    \n",
    "    xtr,xvl = X.loc[train_index],X.loc[test_index]\n",
    "    ytr,yvl = y[train_index],y[test_index]\n",
    "    \n",
    "    model = LogisticRegression(random_state=1)\n",
    "    model.fit(xtr, ytr)\n",
    "    \n",
    "    pred_test = model.predict(xvl)\n",
    "    score = accuracy_score(yvl,pred_test)\n",
    "    print('accuracy_score',score)\n",
    "    \n",
    "    i+=1\n",
    "    pred_test = model.predict(test)\n",
    "    pred=model.predict_proba(xvl)[:,1]"
   ]
  },
  {
   "cell_type": "markdown",
   "metadata": {},
   "source": [
    "The mean validation accuracy for this model is 0.812"
   ]
  },
  {
   "cell_type": "code",
   "execution_count": 64,
   "metadata": {},
   "outputs": [],
   "source": [
    "submission['Loan_Status']=pred_test            # filling Loan_Status with predictions\n",
    "submission['Loan_ID']=test_original['Loan_ID'] # filling Loan_ID with test Loan_ID\n",
    "\n",
    "# replacing 0 and 1 with N and Y \n",
    "submission['Loan_Status'].replace(0, 'N',inplace=True) \n",
    "submission['Loan_Status'].replace(1, 'Y',inplace=True)\n",
    "\n",
    "# Converting submission file to .csv format \n",
    "pd.DataFrame(submission, columns=['Loan_ID','Loan_Status']).to_csv('Log2.csv')"
   ]
  },
  {
   "cell_type": "markdown",
   "metadata": {},
   "source": [
    "From this submission we got an accuracy of 0.7847 on the leaderboard. So we can infer feature engineering has not improved the model. Let us look at some other algorithms.\n",
    "\n",
    "## Decision Tree\n",
    "Decision tree is a type of supervised learning algorithm(having a pre-defined target variable) that is mostly used in classification problems. In this technique, we split the population or sample into two or more homogeneous sets(or sub-populations) based on most significant splitter / differentiator in input variables.\n",
    "\n",
    "Decision trees use multiple algorithms to decide to split a node in two or more sub-nodes. The creation of sub-nodes increases the homogeneity of resultant sub-nodes. In other words, we can say that purity of the node increases with respect to the target variable.\n",
    "\n",
    "For detailed explanation visit https://www.analyticsvidhya.com/blog/2016/04/complete-tutorial-tree-based-modeling-scratch-in-python/#six\n",
    "\n"
   ]
  },
  {
   "cell_type": "code",
   "execution_count": 65,
   "metadata": {},
   "outputs": [],
   "source": [
    "from sklearn import tree"
   ]
  },
  {
   "cell_type": "markdown",
   "metadata": {},
   "source": [
    "Let’s fit the decision tree model with 5 folds of cross validation."
   ]
  },
  {
   "cell_type": "code",
   "execution_count": 66,
   "metadata": {},
   "outputs": [
    {
     "name": "stdout",
     "output_type": "stream",
     "text": [
      "\n",
      "1 of kfold 5\n",
      "accuracy_score 0.725806451613\n",
      "\n",
      "2 of kfold 5\n",
      "accuracy_score 0.741935483871\n",
      "\n",
      "3 of kfold 5\n",
      "accuracy_score 0.704918032787\n",
      "\n",
      "4 of kfold 5\n",
      "accuracy_score 0.680327868852\n",
      "\n",
      "5 of kfold 5\n",
      "accuracy_score 0.704918032787\n"
     ]
    }
   ],
   "source": [
    "i=1 \n",
    "kf = StratifiedKFold(n_splits=5,random_state=1,shuffle=True)\n",
    "\n",
    "for train_index,test_index in kf.split(X,y):\n",
    "    \n",
    "    print('\\n{} of kfold {}'.format(i,kf.n_splits))\n",
    "    \n",
    "    xtr,xvl = X.loc[train_index],X.loc[test_index]\n",
    "    ytr,yvl = y[train_index],y[test_index]\n",
    "    \n",
    "    model = tree.DecisionTreeClassifier(random_state=1)     \n",
    "    model.fit(xtr, ytr)\n",
    "    \n",
    "    pred_test = model.predict(xvl)\n",
    "    score = accuracy_score(yvl,pred_test)\n",
    "    print('accuracy_score',score)\n",
    "    \n",
    "    i+=1\n",
    "    pred_test = model.predict(test)\n",
    "    pred=model.predict_proba(xvl)[:,1]"
   ]
  },
  {
   "cell_type": "markdown",
   "metadata": {},
   "source": [
    "The mean validation accuracy for this model is 0.69"
   ]
  },
  {
   "cell_type": "code",
   "execution_count": 67,
   "metadata": {},
   "outputs": [],
   "source": [
    "submission['Loan_Status']=pred_test            # filling Loan_Status with predictions\n",
    "submission['Loan_ID']=test_original['Loan_ID'] # filling Loan_ID with test Loan_ID\n",
    "\n",
    "# replacing 0 and 1 with N and Y \n",
    "\n",
    "submission['Loan_Status'].replace(0, 'N',inplace=True) \n",
    "submission['Loan_Status'].replace(1, 'Y',inplace=True)\n",
    "\n",
    "# Converting submission file to .csv format \n",
    "pd.DataFrame(submission, columns=['Loan_ID','Loan_Status']).to_csv('Decision Tree.csv')"
   ]
  },
  {
   "cell_type": "markdown",
   "metadata": {},
   "source": [
    "We got an accuracy of 0.63 which is much lesser than the accuracy from logistic regression model. So let’s build another model, i.e. Random Forest, a tree based ensemble algorithm and try to improve our model by improving the accuracy.\n",
    "\n",
    "## Random Forest\n",
    "- RandomForest is a tree based bootstrapping algorithm wherein a certain no. of weak learners (decision trees) are combined to make a powerful prediction model.\n",
    "\n",
    "- For every individual learner, a random sample of rows and a few randomly chosen variables are used to build a decision tree model.\n",
    "\n",
    "- Final prediction can be a function of all the predictions made by the individual learners.\n",
    "\n",
    "- In case of regression problem, the final prediction can be mean of all the predictions.\n",
    "\n",
    "For detailed explanation visit this article https://www.analyticsvidhya.com/blog/2016/04/complete-tutorial-tree-based-modeling-scratch-in-python/"
   ]
  },
  {
   "cell_type": "code",
   "execution_count": 68,
   "metadata": {},
   "outputs": [],
   "source": [
    "from sklearn.ensemble import RandomForestClassifier"
   ]
  },
  {
   "cell_type": "code",
   "execution_count": 69,
   "metadata": {},
   "outputs": [
    {
     "name": "stdout",
     "output_type": "stream",
     "text": [
      "\n",
      "1 of kfold 5\n",
      "accuracy_score 0.822580645161\n",
      "\n",
      "2 of kfold 5\n",
      "accuracy_score 0.814516129032\n",
      "\n",
      "3 of kfold 5\n",
      "accuracy_score 0.737704918033\n",
      "\n",
      "4 of kfold 5\n",
      "accuracy_score 0.729508196721\n",
      "\n",
      "5 of kfold 5\n",
      "accuracy_score 0.811475409836\n"
     ]
    }
   ],
   "source": [
    "i=1 \n",
    "kf = StratifiedKFold(n_splits=5,random_state=1,shuffle=True)\n",
    "\n",
    "for train_index,test_index in kf.split(X,y):\n",
    "    \n",
    "    print('\\n{} of kfold {}'.format(i,kf.n_splits))\n",
    "    \n",
    "    xtr,xvl = X.loc[train_index],X.loc[test_index]\n",
    "    ytr,yvl = y[train_index],y[test_index]\n",
    "    \n",
    "    model = RandomForestClassifier(random_state=1, max_depth=10)     \n",
    "    model.fit(xtr, ytr)\n",
    "    \n",
    "    pred_test = model.predict(xvl)\n",
    "    score = accuracy_score(yvl,pred_test)\n",
    "    print('accuracy_score',score)\n",
    "    \n",
    "    i+=1\n",
    "    pred_test = model.predict(test)\n",
    "    pred=model.predict_proba(xvl)[:,1]"
   ]
  },
  {
   "cell_type": "markdown",
   "metadata": {},
   "source": [
    "The mean validation accuracy for this model is 0.766\n",
    "\n",
    "We will try to improve the accuracy by tuning the hyperparameters for this model. We will use grid search to get the optimized values of hyper parameters. Grid-search is a way to select the best of a family of hyper parameters, parametrized by a grid of parameters.\n",
    "\n",
    "We will tune the max_depth and n_estimators parameters. max_depth decides the maximum depth of the tree and n_estimators decides the number of trees that will be used in random forest model.\n",
    "\n"
   ]
  },
  {
   "cell_type": "code",
   "execution_count": 70,
   "metadata": {},
   "outputs": [
    {
     "name": "stderr",
     "output_type": "stream",
     "text": [
      "/home/santanu/anaconda3/envs/dissertation/lib/python3.6/site-packages/sklearn/model_selection/_search.py:841: DeprecationWarning: The default of the `iid` parameter will change from True to False in version 0.22 and will be removed in 0.24. This will change numeric results when test-set sizes are unequal.\n",
      "  DeprecationWarning)\n"
     ]
    },
    {
     "data": {
      "text/plain": [
       "GridSearchCV(cv='warn', error_score='raise-deprecating',\n",
       "       estimator=RandomForestClassifier(bootstrap=True, class_weight=None, criterion='gini',\n",
       "            max_depth=None, max_features='auto', max_leaf_nodes=None,\n",
       "            min_impurity_decrease=0.0, min_impurity_split=None,\n",
       "            min_samples_leaf=1, min_samples_split=2,\n",
       "            min_weight_fraction_leaf=0.0, n_estimators='warn', n_jobs=None,\n",
       "            oob_score=False, random_state=1, verbose=0, warm_start=False),\n",
       "       fit_params=None, iid='warn', n_jobs=None,\n",
       "       param_grid={'max_depth': [1, 3, 5, 7, 9, 11, 13, 15, 17, 19], 'n_estimators': [1, 21, 41, 61, 81, 101, 121, 141, 161, 181]},\n",
       "       pre_dispatch='2*n_jobs', refit=True, return_train_score='warn',\n",
       "       scoring=None, verbose=0)"
      ]
     },
     "execution_count": 70,
     "metadata": {},
     "output_type": "execute_result"
    }
   ],
   "source": [
    "from sklearn.model_selection import GridSearchCV\n",
    "# Provide range for max_depth from 1 to 20 with an interval of 2 and\n",
    "#from 1 to 200 with an interval of 20 for n_estimators \n",
    "\n",
    "paramgrid = {'max_depth': list(range(1, 20, 2)), 'n_estimators': list(range(1, 200, 20))}\n",
    "grid_search=GridSearchCV(RandomForestClassifier(random_state=1),paramgrid)\n",
    "\n",
    "from sklearn.model_selection import train_test_split \n",
    "\n",
    "x_train, x_cv, y_train, y_cv = train_test_split(X,y, test_size =0.3, random_state=1)\n",
    "\n",
    "# Fit the grid search model \n",
    "grid_search.fit(x_train,y_train)"
   ]
  },
  {
   "cell_type": "code",
   "execution_count": 71,
   "metadata": {},
   "outputs": [
    {
     "data": {
      "text/plain": [
       "RandomForestClassifier(bootstrap=True, class_weight=None, criterion='gini',\n",
       "            max_depth=3, max_features='auto', max_leaf_nodes=None,\n",
       "            min_impurity_decrease=0.0, min_impurity_split=None,\n",
       "            min_samples_leaf=1, min_samples_split=2,\n",
       "            min_weight_fraction_leaf=0.0, n_estimators=141, n_jobs=None,\n",
       "            oob_score=False, random_state=1, verbose=0, warm_start=False)"
      ]
     },
     "execution_count": 71,
     "metadata": {},
     "output_type": "execute_result"
    }
   ],
   "source": [
    "# Estimating the optimized value \n",
    "grid_search.best_estimator_\n"
   ]
  },
  {
   "cell_type": "markdown",
   "metadata": {},
   "source": [
    "So, the optimized value for the max_depth variable is 3 and for n_estimator is 41. Now let’s build the model using these optimized values."
   ]
  },
  {
   "cell_type": "code",
   "execution_count": 72,
   "metadata": {},
   "outputs": [
    {
     "name": "stdout",
     "output_type": "stream",
     "text": [
      "\n",
      "1 of kfold 5\n",
      "accuracy_score 0.798387096774\n",
      "\n",
      "2 of kfold 5\n",
      "accuracy_score 0.822580645161\n",
      "\n",
      "3 of kfold 5\n",
      "accuracy_score 0.803278688525\n",
      "\n",
      "4 of kfold 5\n",
      "accuracy_score 0.77868852459\n",
      "\n",
      "5 of kfold 5\n",
      "accuracy_score 0.819672131148\n"
     ]
    }
   ],
   "source": [
    "i=1 \n",
    "kf = StratifiedKFold(n_splits=5,random_state=1,shuffle=True)\n",
    "\n",
    "for train_index,test_index in kf.split(X,y):\n",
    "    \n",
    "    print('\\n{} of kfold {}'.format(i,kf.n_splits))\n",
    "    \n",
    "    xtr,xvl = X.loc[train_index],X.loc[test_index]\n",
    "    ytr,yvl = y[train_index],y[test_index]\n",
    "    \n",
    "    model = RandomForestClassifier(random_state=1,  max_depth=3, n_estimators=41)     \n",
    "    model.fit(xtr, ytr)\n",
    "    \n",
    "    pred_test = model.predict(xvl)\n",
    "    score = accuracy_score(yvl,pred_test)\n",
    "    print('accuracy_score',score)\n",
    "    \n",
    "    i+=1\n",
    "    pred_test = model.predict(test)\n",
    "    pred=model.predict_proba(xvl)[:,1]"
   ]
  },
  {
   "cell_type": "code",
   "execution_count": 73,
   "metadata": {},
   "outputs": [],
   "source": [
    "submission['Loan_Status']=pred_test            # filling Loan_Status with predictions\n",
    "submission['Loan_ID']=test_original['Loan_ID'] # filling Loan_ID with test Loan_ID\n",
    "\n",
    "# replacing 0 and 1 with N and Y \n",
    "\n",
    "submission['Loan_Status'].replace(0, 'N',inplace=True) \n",
    "submission['Loan_Status'].replace(1, 'Y',inplace=True)\n",
    "\n",
    "# Converting submission file to .csv format \n",
    "pd.DataFrame(submission, columns=['Loan_ID','Loan_Status']).to_csv('Random Forest.csv')"
   ]
  },
  {
   "cell_type": "markdown",
   "metadata": {},
   "source": [
    "We got an accuracy of 0.7638 from the random forest model on leaderboard.\n",
    "\n",
    "Let us find the feature importance now, i.e. which features are most important for this problem. We will use feature_importances_ attribute of sklearn to do so.\n",
    "\n"
   ]
  },
  {
   "cell_type": "code",
   "execution_count": 74,
   "metadata": {},
   "outputs": [
    {
     "data": {
      "text/plain": [
       "<matplotlib.axes._subplots.AxesSubplot at 0x7f0ec02722b0>"
      ]
     },
     "execution_count": 74,
     "metadata": {},
     "output_type": "execute_result"
    },
    {
     "data": {
      "image/png": "[encoded data removed]",
      "text/plain": [
       "<matplotlib.figure.Figure at 0x7f0ec02729b0>"
      ]
     },
     "metadata": {
      "needs_background": "light"
     },
     "output_type": "display_data"
    }
   ],
   "source": [
    "importances=pd.Series(model.feature_importances_, index=X.columns)\n",
    "importances.plot(kind='barh', figsize=(12,8))"
   ]
  },
  {
   "cell_type": "markdown",
   "metadata": {},
   "source": [
    "We can see that Credit_History is the most important feature followed by Balance Income, Total Income, EMI. So, feature engineering helped us in predicting our target variable.\n",
    "\n",
    "## XGBOOST\n",
    "XGBoost is a fast and efficient algorithm and has been used to by the winners of many data science competitions. It’s a boosting algorithm and you may refer the below article to know more about boosting:https://www.analyticsvidhya.com/blog/2015/11/quick-introduction-boosting-algorithms-machine-learning/\n",
    "\n",
    "XGBoost works only with numeric variables and we have already replaced the categorical variables with numeric variables. Let’s have a look at the parameters that we are going to use in our model.\n",
    "\n",
    "- n_estimator: This specifies the number of trees for the model.\n",
    "- max_depth: We can specify maximum depth of a tree using this parameter.\n"
   ]
  },
  {
   "cell_type": "code",
   "execution_count": 76,
   "metadata": {},
   "outputs": [],
   "source": [
    "from xgboost import XGBClassifier"
   ]
  },
  {
   "cell_type": "code",
   "execution_count": 77,
   "metadata": {},
   "outputs": [
    {
     "name": "stdout",
     "output_type": "stream",
     "text": [
      "\n",
      "1 of kfold 5\n",
      "accuracy_score 0.782258064516\n",
      "\n",
      "2 of kfold 5\n",
      "accuracy_score 0.822580645161\n",
      "\n",
      "3 of kfold 5\n",
      "accuracy_score 0.762295081967\n",
      "\n",
      "4 of kfold 5\n",
      "accuracy_score 0.745901639344\n",
      "\n",
      "5 of kfold 5\n",
      "accuracy_score 0.786885245902\n"
     ]
    }
   ],
   "source": [
    "i=1 \n",
    "kf = StratifiedKFold(n_splits=5,random_state=1,shuffle=True)\n",
    "\n",
    "for train_index,test_index in kf.split(X,y):\n",
    "    \n",
    "    print('\\n{} of kfold {}'.format(i,kf.n_splits))\n",
    "    \n",
    "    xtr,xvl = X.loc[train_index],X.loc[test_index]\n",
    "    ytr,yvl = y[train_index],y[test_index]\n",
    "    \n",
    "    model = XGBClassifier(n_estimators=50, max_depth=4)        \n",
    "    model.fit(xtr, ytr)\n",
    "    \n",
    "    pred_test = model.predict(xvl)\n",
    "    score = accuracy_score(yvl,pred_test)\n",
    "    print('accuracy_score',score)\n",
    "    \n",
    "    i+=1\n",
    "    pred_test = model.predict(test)\n",
    "    pred=model.predict_proba(xvl)[:,1]"
   ]
  },
  {
   "cell_type": "markdown",
   "metadata": {},
   "source": [
    "The mean validation accuracy for this model is 0.79"
   ]
  },
  {
   "cell_type": "code",
   "execution_count": 78,
   "metadata": {},
   "outputs": [],
   "source": [
    "submission['Loan_Status']=pred_test \n",
    "submission['Loan_ID']=test_original['Loan_ID']\n",
    "\n",
    "submission['Loan_Status'].replace(0, 'N',inplace=True) \n",
    "submission['Loan_Status'].replace(1, 'Y',inplace=True)\n",
    "\n",
    "pd.DataFrame(submission, columns=['Loan_ID','Loan_Status']).to_csv('XGBoost.csv')"
   ]
  },
  {
   "cell_type": "markdown",
   "metadata": {},
   "source": [
    "We got an accuracy of 0.73611 with this model.\n",
    "\n",
    "After trying and testing 4 different algorithms, the best accuracy on the public leaderboard is achieved by Logistic Regression (0.7847), followed by RandomForest (0.7638).\n",
    "\n",
    "<img src=\"image5.png\">\n",
    "\n",
    "I hope this tutorial was helpful for you in understanding how a machine learning competition is approached and what are the steps one should go through to build a robust model. So, do replicate this analysis and let us know if you face any issues.\n",
    "\n",
    "### What more can be tried?\n",
    "\n",
    "There are still quite a many things that can be tried to improve our models’ predictions. We create and add more variables, try different models with different subset of features and/or rows, etc. Some of the ideas are listed below:\n",
    "\n",
    "- We can train the XGBoost model using grid search to optimize its hyperparameters and improve the accuracy.\n",
    "\n",
    "- We can combine the applicants with 1,2,3 or more dependents and make a new feature as discussed in the EDA part.\n",
    "\n",
    "- We can also make independent vs independent variable visualizations to discover some more patterns.\n",
    "\n",
    "- We can also arrive at the EMI using a better formula which may include interest rates as well.\n",
    "- We can even try ensemble modeling (combination of different models). To read more about ensemble techniques you can refer these articles:\n",
    "\n",
    "- https://www.analyticsvidhya.com/blog/2015/08/introduction-ensemble-learning/\n",
    "\n",
    "- https://www.analyticsvidhya.com/blog/2015/09/questions-ensemble-modeling/"
   ]
  },
  {
   "cell_type": "code",
   "execution_count": null,
   "metadata": {},
   "outputs": [],
   "source": []
  }
 ],
 "metadata": {
  "kernelspec": {
   "display_name": "Python 3",
   "language": "python",
   "name": "python3"
  },
  "language_info": {
   "codemirror_mode": {
    "name": "ipython",
    "version": 3
   },
   "file_extension": ".py",
   "mimetype": "text/x-python",
   "name": "python",
   "nbconvert_exporter": "python",
   "pygments_lexer": "ipython3",
   "version": "3.6.0"
  }
 },
 "nbformat": 4,
 "nbformat_minor": 2
}
